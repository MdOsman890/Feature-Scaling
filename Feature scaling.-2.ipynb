{
 "cells": [
  {
   "cell_type": "code",
   "execution_count": 2,
   "id": "160d0963",
   "metadata": {},
   "outputs": [],
   "source": [
    "import pandas as pd"
   ]
  },
  {
   "cell_type": "code",
   "execution_count": 4,
   "id": "cb270e86",
   "metadata": {},
   "outputs": [],
   "source": [
    "import numpy as np\n",
    "\n"
   ]
  },
  {
   "cell_type": "code",
   "execution_count": 6,
   "id": "7921cea7",
   "metadata": {},
   "outputs": [
    {
     "name": "stdout",
     "output_type": "stream",
     "text": [
      "/Users/mdosman/Downloads\n"
     ]
    }
   ],
   "source": [
    "import io \n",
    "%cd '/Users/mdosman/Downloads'"
   ]
  },
  {
   "cell_type": "code",
   "execution_count": 8,
   "id": "2f609f00",
   "metadata": {},
   "outputs": [],
   "source": [
    "df=pd.read_csv('social.csv')"
   ]
  },
  {
   "cell_type": "code",
   "execution_count": 9,
   "id": "f126f4d9",
   "metadata": {},
   "outputs": [
    {
     "data": {
      "text/html": [
       "<div>\n",
       "<style scoped>\n",
       "    .dataframe tbody tr th:only-of-type {\n",
       "        vertical-align: middle;\n",
       "    }\n",
       "\n",
       "    .dataframe tbody tr th {\n",
       "        vertical-align: top;\n",
       "    }\n",
       "\n",
       "    .dataframe thead th {\n",
       "        text-align: right;\n",
       "    }\n",
       "</style>\n",
       "<table border=\"1\" class=\"dataframe\">\n",
       "  <thead>\n",
       "    <tr style=\"text-align: right;\">\n",
       "      <th></th>\n",
       "      <th>User ID</th>\n",
       "      <th>Gender</th>\n",
       "      <th>Age</th>\n",
       "      <th>EstimatedSalary</th>\n",
       "      <th>Purchased</th>\n",
       "    </tr>\n",
       "  </thead>\n",
       "  <tbody>\n",
       "    <tr>\n",
       "      <th>0</th>\n",
       "      <td>15624510</td>\n",
       "      <td>Male</td>\n",
       "      <td>19</td>\n",
       "      <td>19000</td>\n",
       "      <td>0</td>\n",
       "    </tr>\n",
       "    <tr>\n",
       "      <th>1</th>\n",
       "      <td>15810944</td>\n",
       "      <td>Male</td>\n",
       "      <td>35</td>\n",
       "      <td>20000</td>\n",
       "      <td>0</td>\n",
       "    </tr>\n",
       "    <tr>\n",
       "      <th>2</th>\n",
       "      <td>15668575</td>\n",
       "      <td>Female</td>\n",
       "      <td>26</td>\n",
       "      <td>43000</td>\n",
       "      <td>0</td>\n",
       "    </tr>\n",
       "    <tr>\n",
       "      <th>3</th>\n",
       "      <td>15603246</td>\n",
       "      <td>Female</td>\n",
       "      <td>27</td>\n",
       "      <td>57000</td>\n",
       "      <td>0</td>\n",
       "    </tr>\n",
       "    <tr>\n",
       "      <th>4</th>\n",
       "      <td>15804002</td>\n",
       "      <td>Male</td>\n",
       "      <td>19</td>\n",
       "      <td>76000</td>\n",
       "      <td>0</td>\n",
       "    </tr>\n",
       "    <tr>\n",
       "      <th>...</th>\n",
       "      <td>...</td>\n",
       "      <td>...</td>\n",
       "      <td>...</td>\n",
       "      <td>...</td>\n",
       "      <td>...</td>\n",
       "    </tr>\n",
       "    <tr>\n",
       "      <th>395</th>\n",
       "      <td>15691863</td>\n",
       "      <td>Female</td>\n",
       "      <td>46</td>\n",
       "      <td>41000</td>\n",
       "      <td>1</td>\n",
       "    </tr>\n",
       "    <tr>\n",
       "      <th>396</th>\n",
       "      <td>15706071</td>\n",
       "      <td>Male</td>\n",
       "      <td>51</td>\n",
       "      <td>23000</td>\n",
       "      <td>1</td>\n",
       "    </tr>\n",
       "    <tr>\n",
       "      <th>397</th>\n",
       "      <td>15654296</td>\n",
       "      <td>Female</td>\n",
       "      <td>50</td>\n",
       "      <td>20000</td>\n",
       "      <td>1</td>\n",
       "    </tr>\n",
       "    <tr>\n",
       "      <th>398</th>\n",
       "      <td>15755018</td>\n",
       "      <td>Male</td>\n",
       "      <td>36</td>\n",
       "      <td>33000</td>\n",
       "      <td>0</td>\n",
       "    </tr>\n",
       "    <tr>\n",
       "      <th>399</th>\n",
       "      <td>15594041</td>\n",
       "      <td>Female</td>\n",
       "      <td>49</td>\n",
       "      <td>36000</td>\n",
       "      <td>1</td>\n",
       "    </tr>\n",
       "  </tbody>\n",
       "</table>\n",
       "<p>400 rows × 5 columns</p>\n",
       "</div>"
      ],
      "text/plain": [
       "      User ID  Gender  Age  EstimatedSalary  Purchased\n",
       "0    15624510    Male   19            19000          0\n",
       "1    15810944    Male   35            20000          0\n",
       "2    15668575  Female   26            43000          0\n",
       "3    15603246  Female   27            57000          0\n",
       "4    15804002    Male   19            76000          0\n",
       "..        ...     ...  ...              ...        ...\n",
       "395  15691863  Female   46            41000          1\n",
       "396  15706071    Male   51            23000          1\n",
       "397  15654296  Female   50            20000          1\n",
       "398  15755018    Male   36            33000          0\n",
       "399  15594041  Female   49            36000          1\n",
       "\n",
       "[400 rows x 5 columns]"
      ]
     },
     "execution_count": 9,
     "metadata": {},
     "output_type": "execute_result"
    }
   ],
   "source": [
    "df"
   ]
  },
  {
   "cell_type": "code",
   "execution_count": 14,
   "id": "bc4196de",
   "metadata": {},
   "outputs": [],
   "source": [
    "df.drop([\"User ID\"],axis=1,inplace=True)"
   ]
  },
  {
   "cell_type": "code",
   "execution_count": 16,
   "id": "4892c562",
   "metadata": {},
   "outputs": [
    {
     "data": {
      "text/html": [
       "<div>\n",
       "<style scoped>\n",
       "    .dataframe tbody tr th:only-of-type {\n",
       "        vertical-align: middle;\n",
       "    }\n",
       "\n",
       "    .dataframe tbody tr th {\n",
       "        vertical-align: top;\n",
       "    }\n",
       "\n",
       "    .dataframe thead th {\n",
       "        text-align: right;\n",
       "    }\n",
       "</style>\n",
       "<table border=\"1\" class=\"dataframe\">\n",
       "  <thead>\n",
       "    <tr style=\"text-align: right;\">\n",
       "      <th></th>\n",
       "      <th>Gender</th>\n",
       "      <th>Age</th>\n",
       "      <th>EstimatedSalary</th>\n",
       "      <th>Purchased</th>\n",
       "    </tr>\n",
       "  </thead>\n",
       "  <tbody>\n",
       "    <tr>\n",
       "      <th>0</th>\n",
       "      <td>Male</td>\n",
       "      <td>19</td>\n",
       "      <td>19000</td>\n",
       "      <td>0</td>\n",
       "    </tr>\n",
       "    <tr>\n",
       "      <th>1</th>\n",
       "      <td>Male</td>\n",
       "      <td>35</td>\n",
       "      <td>20000</td>\n",
       "      <td>0</td>\n",
       "    </tr>\n",
       "    <tr>\n",
       "      <th>2</th>\n",
       "      <td>Female</td>\n",
       "      <td>26</td>\n",
       "      <td>43000</td>\n",
       "      <td>0</td>\n",
       "    </tr>\n",
       "    <tr>\n",
       "      <th>3</th>\n",
       "      <td>Female</td>\n",
       "      <td>27</td>\n",
       "      <td>57000</td>\n",
       "      <td>0</td>\n",
       "    </tr>\n",
       "    <tr>\n",
       "      <th>4</th>\n",
       "      <td>Male</td>\n",
       "      <td>19</td>\n",
       "      <td>76000</td>\n",
       "      <td>0</td>\n",
       "    </tr>\n",
       "    <tr>\n",
       "      <th>...</th>\n",
       "      <td>...</td>\n",
       "      <td>...</td>\n",
       "      <td>...</td>\n",
       "      <td>...</td>\n",
       "    </tr>\n",
       "    <tr>\n",
       "      <th>395</th>\n",
       "      <td>Female</td>\n",
       "      <td>46</td>\n",
       "      <td>41000</td>\n",
       "      <td>1</td>\n",
       "    </tr>\n",
       "    <tr>\n",
       "      <th>396</th>\n",
       "      <td>Male</td>\n",
       "      <td>51</td>\n",
       "      <td>23000</td>\n",
       "      <td>1</td>\n",
       "    </tr>\n",
       "    <tr>\n",
       "      <th>397</th>\n",
       "      <td>Female</td>\n",
       "      <td>50</td>\n",
       "      <td>20000</td>\n",
       "      <td>1</td>\n",
       "    </tr>\n",
       "    <tr>\n",
       "      <th>398</th>\n",
       "      <td>Male</td>\n",
       "      <td>36</td>\n",
       "      <td>33000</td>\n",
       "      <td>0</td>\n",
       "    </tr>\n",
       "    <tr>\n",
       "      <th>399</th>\n",
       "      <td>Female</td>\n",
       "      <td>49</td>\n",
       "      <td>36000</td>\n",
       "      <td>1</td>\n",
       "    </tr>\n",
       "  </tbody>\n",
       "</table>\n",
       "<p>400 rows × 4 columns</p>\n",
       "</div>"
      ],
      "text/plain": [
       "     Gender  Age  EstimatedSalary  Purchased\n",
       "0      Male   19            19000          0\n",
       "1      Male   35            20000          0\n",
       "2    Female   26            43000          0\n",
       "3    Female   27            57000          0\n",
       "4      Male   19            76000          0\n",
       "..      ...  ...              ...        ...\n",
       "395  Female   46            41000          1\n",
       "396    Male   51            23000          1\n",
       "397  Female   50            20000          1\n",
       "398    Male   36            33000          0\n",
       "399  Female   49            36000          1\n",
       "\n",
       "[400 rows x 4 columns]"
      ]
     },
     "execution_count": 16,
     "metadata": {},
     "output_type": "execute_result"
    }
   ],
   "source": [
    "df"
   ]
  },
  {
   "cell_type": "code",
   "execution_count": 19,
   "id": "58cc404e",
   "metadata": {},
   "outputs": [
    {
     "data": {
      "text/plain": [
       "Gender             0\n",
       "Age                0\n",
       "EstimatedSalary    0\n",
       "Purchased          0\n",
       "dtype: int64"
      ]
     },
     "execution_count": 19,
     "metadata": {},
     "output_type": "execute_result"
    }
   ],
   "source": [
    "df.isna().sum()"
   ]
  },
  {
   "cell_type": "code",
   "execution_count": 20,
   "id": "9f3f7591",
   "metadata": {},
   "outputs": [],
   "source": [
    "# Errors"
   ]
  },
  {
   "cell_type": "code",
   "execution_count": 25,
   "id": "f7a48e32",
   "metadata": {},
   "outputs": [],
   "source": [
    "import seaborn as sns"
   ]
  },
  {
   "cell_type": "code",
   "execution_count": 23,
   "id": "1fcf4627",
   "metadata": {},
   "outputs": [],
   "source": [
    "import matplotlib.pyplot as plt"
   ]
  },
  {
   "cell_type": "code",
   "execution_count": 27,
   "id": "b552bda7",
   "metadata": {},
   "outputs": [
    {
     "data": {
      "text/plain": [
       "<Axes: >"
      ]
     },
     "execution_count": 27,
     "metadata": {},
     "output_type": "execute_result"
    },
    {
     "data": {
      "image/png": "[encoded data removed]",
      "text/plain": [
       "<Figure size 640x480 with 1 Axes>"
      ]
     },
     "metadata": {},
     "output_type": "display_data"
    }
   ],
   "source": [
    "sns.boxplot(df)"
   ]
  },
  {
   "cell_type": "code",
   "execution_count": 29,
   "id": "84a0f2df",
   "metadata": {},
   "outputs": [],
   "source": [
    "df.drop([\"Gender\"],axis=1,inplace=True)\n",
    "\n",
    " "
   ]
  },
  {
   "cell_type": "code",
   "execution_count": 30,
   "id": "90fc836a",
   "metadata": {},
   "outputs": [
    {
     "data": {
      "text/html": [
       "<div>\n",
       "<style scoped>\n",
       "    .dataframe tbody tr th:only-of-type {\n",
       "        vertical-align: middle;\n",
       "    }\n",
       "\n",
       "    .dataframe tbody tr th {\n",
       "        vertical-align: top;\n",
       "    }\n",
       "\n",
       "    .dataframe thead th {\n",
       "        text-align: right;\n",
       "    }\n",
       "</style>\n",
       "<table border=\"1\" class=\"dataframe\">\n",
       "  <thead>\n",
       "    <tr style=\"text-align: right;\">\n",
       "      <th></th>\n",
       "      <th>Age</th>\n",
       "      <th>EstimatedSalary</th>\n",
       "      <th>Purchased</th>\n",
       "    </tr>\n",
       "  </thead>\n",
       "  <tbody>\n",
       "    <tr>\n",
       "      <th>0</th>\n",
       "      <td>19</td>\n",
       "      <td>19000</td>\n",
       "      <td>0</td>\n",
       "    </tr>\n",
       "    <tr>\n",
       "      <th>1</th>\n",
       "      <td>35</td>\n",
       "      <td>20000</td>\n",
       "      <td>0</td>\n",
       "    </tr>\n",
       "    <tr>\n",
       "      <th>2</th>\n",
       "      <td>26</td>\n",
       "      <td>43000</td>\n",
       "      <td>0</td>\n",
       "    </tr>\n",
       "    <tr>\n",
       "      <th>3</th>\n",
       "      <td>27</td>\n",
       "      <td>57000</td>\n",
       "      <td>0</td>\n",
       "    </tr>\n",
       "    <tr>\n",
       "      <th>4</th>\n",
       "      <td>19</td>\n",
       "      <td>76000</td>\n",
       "      <td>0</td>\n",
       "    </tr>\n",
       "    <tr>\n",
       "      <th>...</th>\n",
       "      <td>...</td>\n",
       "      <td>...</td>\n",
       "      <td>...</td>\n",
       "    </tr>\n",
       "    <tr>\n",
       "      <th>395</th>\n",
       "      <td>46</td>\n",
       "      <td>41000</td>\n",
       "      <td>1</td>\n",
       "    </tr>\n",
       "    <tr>\n",
       "      <th>396</th>\n",
       "      <td>51</td>\n",
       "      <td>23000</td>\n",
       "      <td>1</td>\n",
       "    </tr>\n",
       "    <tr>\n",
       "      <th>397</th>\n",
       "      <td>50</td>\n",
       "      <td>20000</td>\n",
       "      <td>1</td>\n",
       "    </tr>\n",
       "    <tr>\n",
       "      <th>398</th>\n",
       "      <td>36</td>\n",
       "      <td>33000</td>\n",
       "      <td>0</td>\n",
       "    </tr>\n",
       "    <tr>\n",
       "      <th>399</th>\n",
       "      <td>49</td>\n",
       "      <td>36000</td>\n",
       "      <td>1</td>\n",
       "    </tr>\n",
       "  </tbody>\n",
       "</table>\n",
       "<p>400 rows × 3 columns</p>\n",
       "</div>"
      ],
      "text/plain": [
       "     Age  EstimatedSalary  Purchased\n",
       "0     19            19000          0\n",
       "1     35            20000          0\n",
       "2     26            43000          0\n",
       "3     27            57000          0\n",
       "4     19            76000          0\n",
       "..   ...              ...        ...\n",
       "395   46            41000          1\n",
       "396   51            23000          1\n",
       "397   50            20000          1\n",
       "398   36            33000          0\n",
       "399   49            36000          1\n",
       "\n",
       "[400 rows x 3 columns]"
      ]
     },
     "execution_count": 30,
     "metadata": {},
     "output_type": "execute_result"
    }
   ],
   "source": [
    "df"
   ]
  },
  {
   "cell_type": "code",
   "execution_count": 31,
   "id": "5874ee41",
   "metadata": {},
   "outputs": [],
   "source": [
    "# imbalance."
   ]
  },
  {
   "cell_type": "code",
   "execution_count": 34,
   "id": "bc243ac8",
   "metadata": {
    "scrolled": true
   },
   "outputs": [
    {
     "data": {
      "text/plain": [
       "<seaborn.axisgrid.FacetGrid at 0x166f3e150>"
      ]
     },
     "execution_count": 34,
     "metadata": {},
     "output_type": "execute_result"
    },
    {
     "data": {
      "image/png": "[encoded data removed]",
      "text/plain": [
       "<Figure size 664.125x500 with 1 Axes>"
      ]
     },
     "metadata": {},
     "output_type": "display_data"
    }
   ],
   "source": [
    "sns.displot(df)"
   ]
  },
  {
   "cell_type": "markdown",
   "id": "740d77fa",
   "metadata": {},
   "source": [
    "# Imbalance"
   ]
  },
  {
   "cell_type": "code",
   "execution_count": 36,
   "id": "b4f1ee22",
   "metadata": {},
   "outputs": [
    {
     "data": {
      "text/html": [
       "<div>\n",
       "<style scoped>\n",
       "    .dataframe tbody tr th:only-of-type {\n",
       "        vertical-align: middle;\n",
       "    }\n",
       "\n",
       "    .dataframe tbody tr th {\n",
       "        vertical-align: top;\n",
       "    }\n",
       "\n",
       "    .dataframe thead th {\n",
       "        text-align: right;\n",
       "    }\n",
       "</style>\n",
       "<table border=\"1\" class=\"dataframe\">\n",
       "  <thead>\n",
       "    <tr style=\"text-align: right;\">\n",
       "      <th></th>\n",
       "      <th>Age</th>\n",
       "      <th>EstimatedSalary</th>\n",
       "    </tr>\n",
       "  </thead>\n",
       "  <tbody>\n",
       "    <tr>\n",
       "      <th>0</th>\n",
       "      <td>19</td>\n",
       "      <td>19000</td>\n",
       "    </tr>\n",
       "    <tr>\n",
       "      <th>1</th>\n",
       "      <td>35</td>\n",
       "      <td>20000</td>\n",
       "    </tr>\n",
       "    <tr>\n",
       "      <th>2</th>\n",
       "      <td>26</td>\n",
       "      <td>43000</td>\n",
       "    </tr>\n",
       "    <tr>\n",
       "      <th>3</th>\n",
       "      <td>27</td>\n",
       "      <td>57000</td>\n",
       "    </tr>\n",
       "    <tr>\n",
       "      <th>4</th>\n",
       "      <td>19</td>\n",
       "      <td>76000</td>\n",
       "    </tr>\n",
       "    <tr>\n",
       "      <th>...</th>\n",
       "      <td>...</td>\n",
       "      <td>...</td>\n",
       "    </tr>\n",
       "    <tr>\n",
       "      <th>395</th>\n",
       "      <td>46</td>\n",
       "      <td>41000</td>\n",
       "    </tr>\n",
       "    <tr>\n",
       "      <th>396</th>\n",
       "      <td>51</td>\n",
       "      <td>23000</td>\n",
       "    </tr>\n",
       "    <tr>\n",
       "      <th>397</th>\n",
       "      <td>50</td>\n",
       "      <td>20000</td>\n",
       "    </tr>\n",
       "    <tr>\n",
       "      <th>398</th>\n",
       "      <td>36</td>\n",
       "      <td>33000</td>\n",
       "    </tr>\n",
       "    <tr>\n",
       "      <th>399</th>\n",
       "      <td>49</td>\n",
       "      <td>36000</td>\n",
       "    </tr>\n",
       "  </tbody>\n",
       "</table>\n",
       "<p>400 rows × 2 columns</p>\n",
       "</div>"
      ],
      "text/plain": [
       "     Age  EstimatedSalary\n",
       "0     19            19000\n",
       "1     35            20000\n",
       "2     26            43000\n",
       "3     27            57000\n",
       "4     19            76000\n",
       "..   ...              ...\n",
       "395   46            41000\n",
       "396   51            23000\n",
       "397   50            20000\n",
       "398   36            33000\n",
       "399   49            36000\n",
       "\n",
       "[400 rows x 2 columns]"
      ]
     },
     "execution_count": 36,
     "metadata": {},
     "output_type": "execute_result"
    }
   ],
   "source": [
    "df.drop([\"Purchased\"],axis=1)"
   ]
  },
  {
   "cell_type": "code",
   "execution_count": 38,
   "id": "530727bf",
   "metadata": {},
   "outputs": [],
   "source": [
    "X=df.drop([\"Purchased\"],axis=1)"
   ]
  },
  {
   "cell_type": "code",
   "execution_count": 42,
   "id": "3ef9bd4e",
   "metadata": {},
   "outputs": [],
   "source": [
    "y=df[[\"Purchased\"]]"
   ]
  },
  {
   "cell_type": "code",
   "execution_count": 43,
   "id": "b2ab94c1",
   "metadata": {},
   "outputs": [
    {
     "data": {
      "text/html": [
       "<div>\n",
       "<style scoped>\n",
       "    .dataframe tbody tr th:only-of-type {\n",
       "        vertical-align: middle;\n",
       "    }\n",
       "\n",
       "    .dataframe tbody tr th {\n",
       "        vertical-align: top;\n",
       "    }\n",
       "\n",
       "    .dataframe thead th {\n",
       "        text-align: right;\n",
       "    }\n",
       "</style>\n",
       "<table border=\"1\" class=\"dataframe\">\n",
       "  <thead>\n",
       "    <tr style=\"text-align: right;\">\n",
       "      <th></th>\n",
       "      <th>Purchased</th>\n",
       "    </tr>\n",
       "  </thead>\n",
       "  <tbody>\n",
       "    <tr>\n",
       "      <th>0</th>\n",
       "      <td>0</td>\n",
       "    </tr>\n",
       "    <tr>\n",
       "      <th>1</th>\n",
       "      <td>0</td>\n",
       "    </tr>\n",
       "    <tr>\n",
       "      <th>2</th>\n",
       "      <td>0</td>\n",
       "    </tr>\n",
       "    <tr>\n",
       "      <th>3</th>\n",
       "      <td>0</td>\n",
       "    </tr>\n",
       "    <tr>\n",
       "      <th>4</th>\n",
       "      <td>0</td>\n",
       "    </tr>\n",
       "    <tr>\n",
       "      <th>...</th>\n",
       "      <td>...</td>\n",
       "    </tr>\n",
       "    <tr>\n",
       "      <th>395</th>\n",
       "      <td>1</td>\n",
       "    </tr>\n",
       "    <tr>\n",
       "      <th>396</th>\n",
       "      <td>1</td>\n",
       "    </tr>\n",
       "    <tr>\n",
       "      <th>397</th>\n",
       "      <td>1</td>\n",
       "    </tr>\n",
       "    <tr>\n",
       "      <th>398</th>\n",
       "      <td>0</td>\n",
       "    </tr>\n",
       "    <tr>\n",
       "      <th>399</th>\n",
       "      <td>1</td>\n",
       "    </tr>\n",
       "  </tbody>\n",
       "</table>\n",
       "<p>400 rows × 1 columns</p>\n",
       "</div>"
      ],
      "text/plain": [
       "     Purchased\n",
       "0            0\n",
       "1            0\n",
       "2            0\n",
       "3            0\n",
       "4            0\n",
       "..         ...\n",
       "395          1\n",
       "396          1\n",
       "397          1\n",
       "398          0\n",
       "399          1\n",
       "\n",
       "[400 rows x 1 columns]"
      ]
     },
     "execution_count": 43,
     "metadata": {},
     "output_type": "execute_result"
    }
   ],
   "source": [
    "y"
   ]
  },
  {
   "cell_type": "code",
   "execution_count": 45,
   "id": "72307394",
   "metadata": {},
   "outputs": [
    {
     "data": {
      "text/plain": [
       "<Axes: xlabel='Purchased'>"
      ]
     },
     "execution_count": 45,
     "metadata": {},
     "output_type": "execute_result"
    },
    {
     "data": {
      "image/png": "[encoded data removed]",
      "text/plain": [
       "<Figure size 640x480 with 1 Axes>"
      ]
     },
     "metadata": {},
     "output_type": "display_data"
    }
   ],
   "source": [
    "y.value_counts().plot(kind=\"bar\")"
   ]
  },
  {
   "cell_type": "code",
   "execution_count": 46,
   "id": "906daf83",
   "metadata": {},
   "outputs": [],
   "source": [
    "# splitting"
   ]
  },
  {
   "cell_type": "code",
   "execution_count": 48,
   "id": "ed002ad7",
   "metadata": {},
   "outputs": [],
   "source": [
    "from sklearn.model_selection import train_test_split"
   ]
  },
  {
   "cell_type": "code",
   "execution_count": 49,
   "id": "f5805007",
   "metadata": {},
   "outputs": [],
   "source": [
    "X_train,X_test,y_train,y_test=train_test_split(X,y,test_size=0.20)"
   ]
  },
  {
   "cell_type": "code",
   "execution_count": 51,
   "id": "86639002",
   "metadata": {},
   "outputs": [
    {
     "data": {
      "text/plain": [
       "(400, 1)"
      ]
     },
     "execution_count": 51,
     "metadata": {},
     "output_type": "execute_result"
    }
   ],
   "source": [
    "y.shape"
   ]
  },
  {
   "cell_type": "code",
   "execution_count": 52,
   "id": "518cbd4c",
   "metadata": {},
   "outputs": [],
   "source": [
    "# model"
   ]
  },
  {
   "cell_type": "code",
   "execution_count": 57,
   "id": "80dd9926",
   "metadata": {},
   "outputs": [],
   "source": [
    "            from sklearn.linear_model import LogisticRegression"
   ]
  },
  {
   "cell_type": "code",
   "execution_count": 59,
   "id": "97fb80a9",
   "metadata": {},
   "outputs": [],
   "source": [
    "logreg=LogisticRegression()"
   ]
  },
  {
   "cell_type": "code",
   "execution_count": 60,
   "id": "d38426ce",
   "metadata": {},
   "outputs": [
    {
     "name": "stderr",
     "output_type": "stream",
     "text": [
      "/Users/mdosman/anaconda3/lib/python3.11/site-packages/sklearn/utils/validation.py:1183: DataConversionWarning: A column-vector y was passed when a 1d array was expected. Please change the shape of y to (n_samples, ), for example using ravel().\n",
      "  y = column_or_1d(y, warn=True)\n"
     ]
    },
    {
     "data": {
      "text/html": [
       "<style>#sk-container-id-1 {color: black;}#sk-container-id-1 pre{padding: 0;}#sk-container-id-1 div.sk-toggleable {background-color: white;}#sk-container-id-1 label.sk-toggleable__label {cursor: pointer;display: block;width: 100%;margin-bottom: 0;padding: 0.3em;box-sizing: border-box;text-align: center;}#sk-container-id-1 label.sk-toggleable__label-arrow:before {content: \"▸\";float: left;margin-right: 0.25em;color: #696969;}#sk-container-id-1 label.sk-toggleable__label-arrow:hover:before {color: black;}#sk-container-id-1 div.sk-estimator:hover label.sk-toggleable__label-arrow:before {color: black;}#sk-container-id-1 div.sk-toggleable__content {max-height: 0;max-width: 0;overflow: hidden;text-align: left;background-color: #f0f8ff;}#sk-container-id-1 div.sk-toggleable__content pre {margin: 0.2em;color: black;border-radius: 0.25em;background-color: #f0f8ff;}#sk-container-id-1 input.sk-toggleable__control:checked~div.sk-toggleable__content {max-height: 200px;max-width: 100%;overflow: auto;}#sk-container-id-1 input.sk-toggleable__control:checked~label.sk-toggleable__label-arrow:before {content: \"▾\";}#sk-container-id-1 div.sk-estimator input.sk-toggleable__control:checked~label.sk-toggleable__label {background-color: #d4ebff;}#sk-container-id-1 div.sk-label input.sk-toggleable__control:checked~label.sk-toggleable__label {background-color: #d4ebff;}#sk-container-id-1 input.sk-hidden--visually {border: 0;clip: rect(1px 1px 1px 1px);clip: rect(1px, 1px, 1px, 1px);height: 1px;margin: -1px;overflow: hidden;padding: 0;position: absolute;width: 1px;}#sk-container-id-1 div.sk-estimator {font-family: monospace;background-color: #f0f8ff;border: 1px dotted black;border-radius: 0.25em;box-sizing: border-box;margin-bottom: 0.5em;}#sk-container-id-1 div.sk-estimator:hover {background-color: #d4ebff;}#sk-container-id-1 div.sk-parallel-item::after {content: \"\";width: 100%;border-bottom: 1px solid gray;flex-grow: 1;}#sk-container-id-1 div.sk-label:hover label.sk-toggleable__label {background-color: #d4ebff;}#sk-container-id-1 div.sk-serial::before {content: \"\";position: absolute;border-left: 1px solid gray;box-sizing: border-box;top: 0;bottom: 0;left: 50%;z-index: 0;}#sk-container-id-1 div.sk-serial {display: flex;flex-direction: column;align-items: center;background-color: white;padding-right: 0.2em;padding-left: 0.2em;position: relative;}#sk-container-id-1 div.sk-item {position: relative;z-index: 1;}#sk-container-id-1 div.sk-parallel {display: flex;align-items: stretch;justify-content: center;background-color: white;position: relative;}#sk-container-id-1 div.sk-item::before, #sk-container-id-1 div.sk-parallel-item::before {content: \"\";position: absolute;border-left: 1px solid gray;box-sizing: border-box;top: 0;bottom: 0;left: 50%;z-index: -1;}#sk-container-id-1 div.sk-parallel-item {display: flex;flex-direction: column;z-index: 1;position: relative;background-color: white;}#sk-container-id-1 div.sk-parallel-item:first-child::after {align-self: flex-end;width: 50%;}#sk-container-id-1 div.sk-parallel-item:last-child::after {align-self: flex-start;width: 50%;}#sk-container-id-1 div.sk-parallel-item:only-child::after {width: 0;}#sk-container-id-1 div.sk-dashed-wrapped {border: 1px dashed gray;margin: 0 0.4em 0.5em 0.4em;box-sizing: border-box;padding-bottom: 0.4em;background-color: white;}#sk-container-id-1 div.sk-label label {font-family: monospace;font-weight: bold;display: inline-block;line-height: 1.2em;}#sk-container-id-1 div.sk-label-container {text-align: center;}#sk-container-id-1 div.sk-container {/* jupyter's `normalize.less` sets `[hidden] { display: none; }` but bootstrap.min.css set `[hidden] { display: none !important; }` so we also need the `!important` here to be able to override the default hidden behavior on the sphinx rendered scikit-learn.org. See: https://github.com/scikit-learn/scikit-learn/issues/21755 */display: inline-block !important;position: relative;}#sk-container-id-1 div.sk-text-repr-fallback {display: none;}</style><div id=\"sk-container-id-1\" class=\"sk-top-container\"><div class=\"sk-text-repr-fallback\"><pre>LogisticRegression()</pre><b>In a Jupyter environment, please rerun this cell to show the HTML representation or trust the notebook. <br />On GitHub, the HTML representation is unable to render, please try loading this page with nbviewer.org.</b></div><div class=\"sk-container\" hidden><div class=\"sk-item\"><div class=\"sk-estimator sk-toggleable\"><input class=\"sk-toggleable__control sk-hidden--visually\" id=\"sk-estimator-id-1\" type=\"checkbox\" checked><label for=\"sk-estimator-id-1\" class=\"sk-toggleable__label sk-toggleable__label-arrow\">LogisticRegression</label><div class=\"sk-toggleable__content\"><pre>LogisticRegression()</pre></div></div></div></div></div>"
      ],
      "text/plain": [
       "LogisticRegression()"
      ]
     },
     "execution_count": 60,
     "metadata": {},
     "output_type": "execute_result"
    }
   ],
   "source": [
    "logreg.fit(X_train,y_train)"
   ]
  },
  {
   "cell_type": "code",
   "execution_count": 61,
   "id": "5080bc4b",
   "metadata": {},
   "outputs": [
    {
     "data": {
      "text/plain": [
       "0.6875"
      ]
     },
     "execution_count": 61,
     "metadata": {},
     "output_type": "execute_result"
    }
   ],
   "source": [
    "logreg.score(X_test,y_test)"
   ]
  },
  {
   "cell_type": "markdown",
   "id": "71666bf1",
   "metadata": {},
   "source": [
    "# Feature scaling"
   ]
  },
  {
   "cell_type": "code",
   "execution_count": null,
   "id": "598e1b9d",
   "metadata": {},
   "outputs": [],
   "source": [
    "# it is implement on the independent column only. \n",
    "\n",
    "\n",
    "# X"
   ]
  },
  {
   "cell_type": "code",
   "execution_count": 62,
   "id": "94f88b78",
   "metadata": {},
   "outputs": [],
   "source": [
    "from sklearn.preprocessing import StandardScaler"
   ]
  },
  {
   "cell_type": "code",
   "execution_count": 63,
   "id": "8fb8fff2",
   "metadata": {},
   "outputs": [],
   "source": [
    "ss=StandardScaler()"
   ]
  },
  {
   "cell_type": "code",
   "execution_count": 64,
   "id": "434d5cbc",
   "metadata": {},
   "outputs": [
    {
     "data": {
      "text/html": [
       "<style>#sk-container-id-2 {color: black;}#sk-container-id-2 pre{padding: 0;}#sk-container-id-2 div.sk-toggleable {background-color: white;}#sk-container-id-2 label.sk-toggleable__label {cursor: pointer;display: block;width: 100%;margin-bottom: 0;padding: 0.3em;box-sizing: border-box;text-align: center;}#sk-container-id-2 label.sk-toggleable__label-arrow:before {content: \"▸\";float: left;margin-right: 0.25em;color: #696969;}#sk-container-id-2 label.sk-toggleable__label-arrow:hover:before {color: black;}#sk-container-id-2 div.sk-estimator:hover label.sk-toggleable__label-arrow:before {color: black;}#sk-container-id-2 div.sk-toggleable__content {max-height: 0;max-width: 0;overflow: hidden;text-align: left;background-color: #f0f8ff;}#sk-container-id-2 div.sk-toggleable__content pre {margin: 0.2em;color: black;border-radius: 0.25em;background-color: #f0f8ff;}#sk-container-id-2 input.sk-toggleable__control:checked~div.sk-toggleable__content {max-height: 200px;max-width: 100%;overflow: auto;}#sk-container-id-2 input.sk-toggleable__control:checked~label.sk-toggleable__label-arrow:before {content: \"▾\";}#sk-container-id-2 div.sk-estimator input.sk-toggleable__control:checked~label.sk-toggleable__label {background-color: #d4ebff;}#sk-container-id-2 div.sk-label input.sk-toggleable__control:checked~label.sk-toggleable__label {background-color: #d4ebff;}#sk-container-id-2 input.sk-hidden--visually {border: 0;clip: rect(1px 1px 1px 1px);clip: rect(1px, 1px, 1px, 1px);height: 1px;margin: -1px;overflow: hidden;padding: 0;position: absolute;width: 1px;}#sk-container-id-2 div.sk-estimator {font-family: monospace;background-color: #f0f8ff;border: 1px dotted black;border-radius: 0.25em;box-sizing: border-box;margin-bottom: 0.5em;}#sk-container-id-2 div.sk-estimator:hover {background-color: #d4ebff;}#sk-container-id-2 div.sk-parallel-item::after {content: \"\";width: 100%;border-bottom: 1px solid gray;flex-grow: 1;}#sk-container-id-2 div.sk-label:hover label.sk-toggleable__label {background-color: #d4ebff;}#sk-container-id-2 div.sk-serial::before {content: \"\";position: absolute;border-left: 1px solid gray;box-sizing: border-box;top: 0;bottom: 0;left: 50%;z-index: 0;}#sk-container-id-2 div.sk-serial {display: flex;flex-direction: column;align-items: center;background-color: white;padding-right: 0.2em;padding-left: 0.2em;position: relative;}#sk-container-id-2 div.sk-item {position: relative;z-index: 1;}#sk-container-id-2 div.sk-parallel {display: flex;align-items: stretch;justify-content: center;background-color: white;position: relative;}#sk-container-id-2 div.sk-item::before, #sk-container-id-2 div.sk-parallel-item::before {content: \"\";position: absolute;border-left: 1px solid gray;box-sizing: border-box;top: 0;bottom: 0;left: 50%;z-index: -1;}#sk-container-id-2 div.sk-parallel-item {display: flex;flex-direction: column;z-index: 1;position: relative;background-color: white;}#sk-container-id-2 div.sk-parallel-item:first-child::after {align-self: flex-end;width: 50%;}#sk-container-id-2 div.sk-parallel-item:last-child::after {align-self: flex-start;width: 50%;}#sk-container-id-2 div.sk-parallel-item:only-child::after {width: 0;}#sk-container-id-2 div.sk-dashed-wrapped {border: 1px dashed gray;margin: 0 0.4em 0.5em 0.4em;box-sizing: border-box;padding-bottom: 0.4em;background-color: white;}#sk-container-id-2 div.sk-label label {font-family: monospace;font-weight: bold;display: inline-block;line-height: 1.2em;}#sk-container-id-2 div.sk-label-container {text-align: center;}#sk-container-id-2 div.sk-container {/* jupyter's `normalize.less` sets `[hidden] { display: none; }` but bootstrap.min.css set `[hidden] { display: none !important; }` so we also need the `!important` here to be able to override the default hidden behavior on the sphinx rendered scikit-learn.org. See: https://github.com/scikit-learn/scikit-learn/issues/21755 */display: inline-block !important;position: relative;}#sk-container-id-2 div.sk-text-repr-fallback {display: none;}</style><div id=\"sk-container-id-2\" class=\"sk-top-container\"><div class=\"sk-text-repr-fallback\"><pre>StandardScaler()</pre><b>In a Jupyter environment, please rerun this cell to show the HTML representation or trust the notebook. <br />On GitHub, the HTML representation is unable to render, please try loading this page with nbviewer.org.</b></div><div class=\"sk-container\" hidden><div class=\"sk-item\"><div class=\"sk-estimator sk-toggleable\"><input class=\"sk-toggleable__control sk-hidden--visually\" id=\"sk-estimator-id-2\" type=\"checkbox\" checked><label for=\"sk-estimator-id-2\" class=\"sk-toggleable__label sk-toggleable__label-arrow\">StandardScaler</label><div class=\"sk-toggleable__content\"><pre>StandardScaler()</pre></div></div></div></div></div>"
      ],
      "text/plain": [
       "StandardScaler()"
      ]
     },
     "execution_count": 64,
     "metadata": {},
     "output_type": "execute_result"
    }
   ],
   "source": [
    "ss.fit(X_train)"
   ]
  },
  {
   "cell_type": "code",
   "execution_count": 78,
   "id": "c4ca98bc",
   "metadata": {},
   "outputs": [],
   "source": [
    "ss_xtrain=ss.transform(X_train)"
   ]
  },
  {
   "cell_type": "code",
   "execution_count": 67,
   "id": "acf9ae67",
   "metadata": {},
   "outputs": [
    {
     "data": {
      "text/plain": [
       "array([[ 1.09083635, -1.25103852],\n",
       "       [-1.11299443,  0.38858777],\n",
       "       [ 0.22846778, -0.31410921],\n",
       "       [-0.72971951,  1.32551708],\n",
       "       [ 0.32428651,  0.03723928],\n",
       "       [-0.63390078,  0.09579736],\n",
       "       [-0.25062586,  0.18363448],\n",
       "       [-0.53808205,  1.44263324],\n",
       "       [ 0.80338016, -1.42671276],\n",
       "       [-1.11299443, -1.13392235],\n",
       "       [-0.05898841, -0.54834154],\n",
       "       [-0.44226332, -0.31410921],\n",
       "       [ 1.37829254,  2.32100446],\n",
       "       [-0.72971951,  1.88181885],\n",
       "       [ 0.13264905,  0.73993626],\n",
       "       [-1.11299443, -1.60238701],\n",
       "       [-1.0171757 , -0.40194633],\n",
       "       [ 0.22846778, -0.34338825],\n",
       "       [-1.49626935,  0.30075065],\n",
       "       [-0.72971951,  1.06200571],\n",
       "       [-1.0171757 ,  0.50570393],\n",
       "       [ 0.13264905, -0.84113194],\n",
       "       [ 0.99501762,  1.4133542 ],\n",
       "       [-1.30463189, -0.37266729],\n",
       "       [ 0.03683032,  0.00796024],\n",
       "       [-1.78372554, -1.33887564],\n",
       "       [ 0.03683032,  0.00796024],\n",
       "       [-0.05898841,  0.21291352],\n",
       "       [ 0.32428651, -0.57762058],\n",
       "       [-0.25062586, -0.60689962],\n",
       "       [ 0.42010524, -0.0213188 ],\n",
       "       [-1.30463189, -0.46050441],\n",
       "       [-0.05898841,  2.2038883 ],\n",
       "       [-1.68790681, -0.63617866],\n",
       "       [-1.49626935, -0.46050441],\n",
       "       [-0.82553824, -0.69473674],\n",
       "       [-0.92135697,  0.38858777],\n",
       "       [ 0.42010524,  2.29172542],\n",
       "       [ 0.32428651, -1.19248043],\n",
       "       [ 1.85738619, -1.3095966 ],\n",
       "       [ 0.80338016,  0.50570393],\n",
       "       [ 0.13264905,  0.00796024],\n",
       "       [ 0.89919889, -1.07536427],\n",
       "       [-1.30463189,  0.38858777],\n",
       "       [ 0.22846778,  0.1250764 ],\n",
       "       [ 0.89919889,  1.23767995],\n",
       "       [-0.05898841,  0.65209914],\n",
       "       [ 0.22846778,  0.03723928],\n",
       "       [-1.40045062, -1.48527084],\n",
       "       [-1.11299443,  0.03723928],\n",
       "       [ 0.89919889, -1.33887564],\n",
       "       [ 0.80338016, -0.87041098],\n",
       "       [-1.30463189, -1.13392235],\n",
       "       [ 0.99501762,  1.85253981],\n",
       "       [ 0.42010524,  0.56426201],\n",
       "       [ 0.51592397,  1.82326077],\n",
       "       [-0.25062586,  0.7692153 ],\n",
       "       [ 1.56993   , -0.0213188 ],\n",
       "       [ 2.04902365,  1.73542365],\n",
       "       [ 1.28247381, -1.39743372],\n",
       "       [-0.53808205,  1.35479612],\n",
       "       [-1.20881316,  0.56426201],\n",
       "       [ 0.80338016,  0.73993626],\n",
       "       [-1.87954427,  0.44714585],\n",
       "       [ 0.32428651,  0.03723928],\n",
       "       [-0.92135697,  1.53047036],\n",
       "       [-0.72971951, -0.25555113],\n",
       "       [ 0.70756143, -0.75329482],\n",
       "       [-1.40045062, -0.22627209],\n",
       "       [ 1.56993   , -1.3095966 ],\n",
       "       [-0.92135697,  0.41786681],\n",
       "       [-0.05898841,  0.03723928],\n",
       "       [-0.44226332, -1.16320139],\n",
       "       [-0.53808205,  1.35479612],\n",
       "       [-0.05898841,  0.18363448],\n",
       "       [ 0.99501762,  0.56426201],\n",
       "       [ 0.42010524, -0.16771401],\n",
       "       [ 0.42010524,  0.97416859],\n",
       "       [ 0.99501762, -1.10464331],\n",
       "       [ 0.80338016,  0.24219257],\n",
       "       [-0.34644459, -0.8118529 ],\n",
       "       [-0.53808205,  0.44714585],\n",
       "       [ 0.99501762,  1.76470269],\n",
       "       [ 1.18665508, -0.78257386],\n",
       "       [-0.92135697,  0.24219257],\n",
       "       [-0.82553824,  2.26244638],\n",
       "       [ 1.47411127,  0.33002969],\n",
       "       [ 0.32428651, -0.54834154],\n",
       "       [-1.0171757 , -1.48527084],\n",
       "       [ 0.42010524,  0.27147161],\n",
       "       [ 0.03683032, -0.60689962],\n",
       "       [-0.63390078, -1.07536427],\n",
       "       [ 2.04902365,  0.15435544],\n",
       "       [-0.63390078, -0.13843496],\n",
       "       [-0.25062586, -0.37266729],\n",
       "       [ 0.42010524,  0.27147161],\n",
       "       [ 2.04902365,  2.11605118],\n",
       "       [ 1.76156746, -0.31410921],\n",
       "       [ 0.32428651, -0.54834154],\n",
       "       [ 0.89919889,  1.00344763],\n",
       "       [ 2.14484238, -0.84113194],\n",
       "       [ 1.85738619, -0.31410921],\n",
       "       [ 1.85738619, -1.10464331],\n",
       "       [ 0.22846778, -0.69473674],\n",
       "       [-0.53808205,  2.32100446],\n",
       "       [-0.05898841,  0.1250764 ],\n",
       "       [-0.44226332, -0.87041098],\n",
       "       [-0.44226332, -0.57762058],\n",
       "       [-1.68790681, -1.01680619],\n",
       "       [-0.15480714,  0.1250764 ],\n",
       "       [ 0.03683032,  1.23767995],\n",
       "       [-0.63390078, -1.54382892],\n",
       "       [-0.15480714,  0.82777338],\n",
       "       [-0.63390078,  0.53498297],\n",
       "       [-1.0171757 , -0.48978345],\n",
       "       [ 0.13264905,  1.85253981],\n",
       "       [ 0.13264905, -0.28483017],\n",
       "       [-0.72971951,  0.27147161],\n",
       "       [ 0.70756143, -1.13392235],\n",
       "       [-0.72971951,  0.47642489],\n",
       "       [ 0.89919889, -1.19248043],\n",
       "       [-0.34644459,  0.03723928],\n",
       "       [ 0.99501762, -1.04608523],\n",
       "       [-1.20881316, -1.42671276],\n",
       "       [-0.92135697,  0.47642489],\n",
       "       [-0.82553824, -0.8118529 ],\n",
       "       [ 0.89919889,  1.06200571],\n",
       "       [ 0.13264905,  0.1250764 ],\n",
       "       [-1.87954427, -0.78257386],\n",
       "       [ 1.76156746,  0.97416859],\n",
       "       [ 0.70756143,  0.24219257],\n",
       "       [ 0.03683032, -0.16771401],\n",
       "       [-1.68790681,  0.44714585],\n",
       "       [ 0.89919889, -1.48527084],\n",
       "       [-0.82553824, -1.25103852],\n",
       "       [ 2.04902365, -1.22175947],\n",
       "       [-1.40045062, -1.25103852],\n",
       "       [-0.34644459, -1.33887564],\n",
       "       [ 0.42010524, -0.5190625 ],\n",
       "       [ 0.42010524,  0.06651832],\n",
       "       [ 0.22846778, -0.40194633],\n",
       "       [-0.15480714, -0.22627209],\n",
       "       [ 0.99501762,  2.0574931 ],\n",
       "       [ 0.89919889, -0.63617866],\n",
       "       [ 1.09083635,  0.50570393],\n",
       "       [ 1.47411127,  2.11605118],\n",
       "       [ 0.13264905,  0.06651832],\n",
       "       [-1.0171757 ,  0.56426201],\n",
       "       [ 0.99501762, -1.22175947],\n",
       "       [-0.92135697, -0.98752715],\n",
       "       [-1.40045062,  0.33002969],\n",
       "       [-0.25062586,  0.50570393],\n",
       "       [ 1.56993   ,  1.09128475],\n",
       "       [ 0.99501762,  0.73993626],\n",
       "       [ 0.80338016, -1.39743372],\n",
       "       [ 0.13264905,  1.85253981],\n",
       "       [-1.59208808,  0.03723928],\n",
       "       [-1.20881316,  0.24219257],\n",
       "       [ 0.22846778,  0.00796024],\n",
       "       [-1.68790681,  0.09579736],\n",
       "       [-1.59208808, -0.07987688],\n",
       "       [-0.34644459,  1.29623803],\n",
       "       [-0.34644459,  1.20840091],\n",
       "       [-0.25062586, -0.92896907],\n",
       "       [-0.25062586,  0.1250764 ],\n",
       "       [ 1.47411127,  0.03723928],\n",
       "       [-1.30463189, -1.28031756],\n",
       "       [-1.78372554,  0.15435544],\n",
       "       [ 2.14484238, -0.84113194],\n",
       "       [-1.0171757 ,  1.94037693],\n",
       "       [-1.30463189, -1.51454988],\n",
       "       [ 1.95320492, -1.39743372],\n",
       "       [-0.92135697, -0.46050441],\n",
       "       [ 1.66574873, -0.92896907],\n",
       "       [-0.25062586, -1.39743372],\n",
       "       [ 0.80338016,  0.09579736],\n",
       "       [-0.25062586, -1.48527084],\n",
       "       [-0.92135697, -0.78257386],\n",
       "       [-0.05898841,  2.14533022],\n",
       "       [-0.44226332, -0.8118529 ],\n",
       "       [ 0.51592397,  1.20840091],\n",
       "       [-0.82553824,  0.35930873],\n",
       "       [-0.63390078,  1.38407516],\n",
       "       [-1.11299443, -1.04608523],\n",
       "       [-1.78372554, -1.51454988],\n",
       "       [ 1.09083635,  2.0574931 ],\n",
       "       [-0.05898841,  0.27147161],\n",
       "       [-0.63390078, -0.07987688],\n",
       "       [ 1.09083635, -1.25103852],\n",
       "       [-0.15480714, -0.48978345],\n",
       "       [-1.40045062, -0.6654577 ],\n",
       "       [-0.82553824, -0.8118529 ],\n",
       "       [-0.25062586,  0.24219257],\n",
       "       [ 1.56993   ,  0.97416859],\n",
       "       [ 1.85738619,  0.09579736],\n",
       "       [-1.11299443, -1.19248043],\n",
       "       [ 0.70756143, -1.42671276],\n",
       "       [-0.63390078, -0.37266729],\n",
       "       [ 0.03683032, -0.57762058],\n",
       "       [ 0.03683032, -0.28483017],\n",
       "       [-1.59208808, -1.60238701],\n",
       "       [-1.87954427, -0.54834154],\n",
       "       [ 0.13264905, -0.34338825],\n",
       "       [ 1.95320492,  0.88633146],\n",
       "       [-0.25062586, -0.40194633],\n",
       "       [ 0.80338016, -1.13392235],\n",
       "       [-1.87954427, -0.07987688],\n",
       "       [ 1.95320492,  0.71065722],\n",
       "       [-1.78372554,  0.41786681],\n",
       "       [-0.05898841,  0.24219257],\n",
       "       [-1.0171757 ,  0.73993626],\n",
       "       [-0.05898841,  1.94037693],\n",
       "       [-0.82553824,  0.27147161],\n",
       "       [ 1.37829254, -0.95824811],\n",
       "       [ 1.95320492,  2.14533022],\n",
       "       [ 0.22846778, -0.40194633],\n",
       "       [ 1.66574873,  1.58902844],\n",
       "       [ 1.09083635,  0.09579736],\n",
       "       [ 0.03683032,  1.20840091],\n",
       "       [-0.25062586,  0.1250764 ],\n",
       "       [ 0.13264905,  1.03272667],\n",
       "       [-1.0171757 ,  0.38858777],\n",
       "       [ 0.80338016, -1.25103852],\n",
       "       [-0.15480714, -1.10464331],\n",
       "       [-1.49626935, -0.22627209],\n",
       "       [ 0.22846778,  2.08677214],\n",
       "       [ 0.03683032, -0.60689962],\n",
       "       [ 0.89919889,  2.14533022],\n",
       "       [-1.11299443,  0.30075065],\n",
       "       [ 1.37829254,  0.56426201],\n",
       "       [ 0.32428651,  0.47642489],\n",
       "       [-0.44226332,  2.29172542],\n",
       "       [ 0.70756143,  1.76470269],\n",
       "       [-0.05898841, -0.46050441],\n",
       "       [ 1.28247381,  2.2038883 ],\n",
       "       [-0.92135697,  0.53498297],\n",
       "       [ 1.85738619,  1.50119132],\n",
       "       [ 0.32428651,  0.00796024],\n",
       "       [-1.20881316,  0.27147161],\n",
       "       [ 1.76156746,  1.82326077],\n",
       "       [ 0.99501762, -1.10464331],\n",
       "       [-0.72971951,  0.53498297],\n",
       "       [-1.30463189, -0.46050441],\n",
       "       [ 1.37829254,  1.96965597],\n",
       "       [ 1.28247381,  1.85253981],\n",
       "       [-1.40045062, -0.13843496],\n",
       "       [-0.25062586, -0.60689962],\n",
       "       [-0.63390078,  0.00796024],\n",
       "       [ 1.95320492, -0.69473674],\n",
       "       [ 0.32428651, -0.22627209],\n",
       "       [ 0.89919889, -0.57762058],\n",
       "       [ 0.80338016,  1.35479612],\n",
       "       [-1.0171757 , -1.16320139],\n",
       "       [ 0.42010524,  0.1250764 ],\n",
       "       [ 0.32428651,  0.03723928],\n",
       "       [-1.30463189, -1.39743372],\n",
       "       [ 0.42010524,  1.09128475],\n",
       "       [-0.53808205, -1.54382892],\n",
       "       [-0.63390078, -1.63166605],\n",
       "       [-1.11299443, -1.63166605],\n",
       "       [-0.92135697, -0.34338825],\n",
       "       [-0.82553824,  0.35930873],\n",
       "       [ 0.03683032,  0.27147161],\n",
       "       [ 0.42010524, -0.16771401],\n",
       "       [ 0.70756143, -1.42671276],\n",
       "       [-0.53808205, -1.54382892],\n",
       "       [-1.11299443, -1.63166605],\n",
       "       [ 0.89919889, -0.60689962],\n",
       "       [-1.11299443,  1.38407516],\n",
       "       [-0.25062586, -0.34338825],\n",
       "       [ 1.09083635,  0.53498297],\n",
       "       [-1.0171757 , -0.37266729],\n",
       "       [ 0.13264905, -0.84113194],\n",
       "       [ 0.80338016, -0.34338825],\n",
       "       [ 2.14484238,  1.09128475],\n",
       "       [ 0.13264905,  1.50119132],\n",
       "       [-1.11299443, -1.57310796],\n",
       "       [ 0.89919889, -0.69473674],\n",
       "       [ 0.03683032, -0.46050441],\n",
       "       [-0.05898841,  0.27147161],\n",
       "       [ 1.47411127,  0.97416859],\n",
       "       [-0.63390078,  0.15435544],\n",
       "       [-0.25062586,  1.09128475],\n",
       "       [ 2.14484238, -1.07536427],\n",
       "       [-0.15480714, -0.31410921],\n",
       "       [ 0.13264905,  0.24219257],\n",
       "       [-0.25062586, -1.28031756],\n",
       "       [ 1.37829254,  1.26695899],\n",
       "       [-1.49626935, -1.28031756],\n",
       "       [ 0.22846778,  0.21291352],\n",
       "       [ 0.32428651, -0.31410921],\n",
       "       [-1.11299443, -0.54834154],\n",
       "       [ 0.99501762,  0.09579736],\n",
       "       [-0.82553824,  0.1250764 ],\n",
       "       [-1.0171757 ,  0.53498297],\n",
       "       [-1.30463189,  0.53498297],\n",
       "       [-0.44226332, -0.05059784],\n",
       "       [ 0.03683032, -0.34338825],\n",
       "       [-0.15480714, -0.54834154],\n",
       "       [-1.20881316,  0.47642489],\n",
       "       [-0.25062586, -0.28483017],\n",
       "       [ 2.14484238,  0.35930873],\n",
       "       [-0.25062586, -0.5190625 ],\n",
       "       [ 1.37829254, -1.4559918 ],\n",
       "       [ 0.99501762, -1.19248043],\n",
       "       [-1.78372554, -0.0213188 ],\n",
       "       [ 0.32428651, -0.34338825],\n",
       "       [-0.25062586, -0.31410921],\n",
       "       [-0.34644459, -0.8118529 ],\n",
       "       [ 0.13264905,  0.18363448],\n",
       "       [-0.25062586, -1.33887564],\n",
       "       [-0.25062586,  0.00796024],\n",
       "       [-0.53808205,  0.85705242],\n",
       "       [-0.44226332, -1.25103852],\n",
       "       [ 0.42010524, -0.48978345],\n",
       "       [-0.05898841,  0.00796024],\n",
       "       [ 0.22846778, -0.40194633],\n",
       "       [ 0.22846778,  1.06200571],\n",
       "       [-0.44226332,  1.23767995],\n",
       "       [ 1.09083635, -0.92896907]])"
      ]
     },
     "execution_count": 67,
     "metadata": {},
     "output_type": "execute_result"
    }
   ],
   "source": [
    "ss_xtrain"
   ]
  },
  {
   "cell_type": "code",
   "execution_count": 84,
   "id": "c3f69e8a",
   "metadata": {},
   "outputs": [],
   "source": [
    "ss_xtest=ss.transform(X_test)"
   ]
  },
  {
   "cell_type": "code",
   "execution_count": 85,
   "id": "a552e654",
   "metadata": {},
   "outputs": [
    {
     "data": {
      "text/plain": [
       "array([[-1.59208808,  0.50570393],\n",
       "       [-1.11299443,  0.44714585],\n",
       "       [-1.68790681, -1.39743372],\n",
       "       [-0.05898841, -1.10464331],\n",
       "       [-0.15480714,  1.38407516],\n",
       "       [-0.72971951,  0.24219257],\n",
       "       [-0.25062586, -0.46050441],\n",
       "       [ 0.80338016,  0.33002969],\n",
       "       [ 0.42010524, -0.19699305],\n",
       "       [-1.68790681,  0.33002969],\n",
       "       [-0.25062586,  0.06651832],\n",
       "       [-0.15480714,  1.61830748],\n",
       "       [ 0.51592397,  1.70614461],\n",
       "       [-0.72971951, -1.57310796],\n",
       "       [ 1.09083635, -0.16771401],\n",
       "       [ 0.6117427 , -0.92896907],\n",
       "       [ 1.66574873,  1.73542365],\n",
       "       [-0.05898841, -0.25555113],\n",
       "       [-0.05898841, -0.40194633],\n",
       "       [-1.11299443,  0.27147161],\n",
       "       [-0.92135697, -1.13392235],\n",
       "       [-0.25062586, -1.42671276],\n",
       "       [-1.11299443,  0.27147161],\n",
       "       [-0.05898841, -0.5190625 ],\n",
       "       [-1.87954427,  0.33002969],\n",
       "       [ 0.32428651,  0.24219257],\n",
       "       [ 0.70756143, -1.3095966 ],\n",
       "       [ 2.14484238, -0.72401578],\n",
       "       [-0.92135697, -0.34338825],\n",
       "       [-0.25062586,  2.23316734],\n",
       "       [ 1.18665508,  0.50570393],\n",
       "       [-0.72971951, -0.63617866],\n",
       "       [-0.72971951, -1.63166605],\n",
       "       [ 1.09083635, -1.01680619],\n",
       "       [-0.05898841, -0.0213188 ],\n",
       "       [ 0.03683032, -0.28483017],\n",
       "       [ 0.32428651,  0.27147161],\n",
       "       [-1.78372554, -1.4559918 ],\n",
       "       [-1.11299443, -0.8118529 ],\n",
       "       [ 1.18665508, -1.01680619],\n",
       "       [ 0.32428651, -0.75329482],\n",
       "       [-0.25062586,  0.03723928],\n",
       "       [ 0.99501762,  1.96965597],\n",
       "       [ 1.09083635,  0.44714585],\n",
       "       [ 2.04902365, -0.84113194],\n",
       "       [-1.20881316, -1.10464331],\n",
       "       [ 0.22846778, -0.16771401],\n",
       "       [-0.15480714,  2.14533022],\n",
       "       [-1.0171757 , -0.37266729],\n",
       "       [-0.15480714, -0.60689962],\n",
       "       [-0.25062586, -0.78257386],\n",
       "       [ 0.89919889, -1.39743372],\n",
       "       [ 0.99501762, -0.87041098],\n",
       "       [ 0.22846778, -0.28483017],\n",
       "       [ 2.04902365,  0.50570393],\n",
       "       [-1.49626935, -1.54382892],\n",
       "       [ 0.22846778,  0.1250764 ],\n",
       "       [ 0.32428651,  0.03723928],\n",
       "       [ 1.47411127, -1.07536427],\n",
       "       [-0.25062586, -0.95824811],\n",
       "       [ 2.04902365,  0.35930873],\n",
       "       [-0.25062586, -0.16771401],\n",
       "       [ 1.95320492, -0.95824811],\n",
       "       [ 1.18665508, -1.48527084],\n",
       "       [ 0.6117427 ,  1.99893501],\n",
       "       [-1.68790681,  0.33002969],\n",
       "       [ 0.89919889, -0.8118529 ],\n",
       "       [ 0.42010524,  0.24219257],\n",
       "       [-1.78372554, -1.3095966 ],\n",
       "       [-0.05898841,  0.09579736],\n",
       "       [-0.25062586,  0.03723928],\n",
       "       [-0.15480714,  1.58902844],\n",
       "       [-0.82553824, -0.28483017],\n",
       "       [ 2.14484238,  0.9156105 ],\n",
       "       [ 0.13264905,  0.00796024],\n",
       "       [-0.25062586,  0.59354106],\n",
       "       [-1.0171757 , -1.57310796],\n",
       "       [-0.25062586, -0.69473674],\n",
       "       [-0.53808205,  1.88181885],\n",
       "       [ 0.42010524, -0.48978345]])"
      ]
     },
     "execution_count": 85,
     "metadata": {},
     "output_type": "execute_result"
    }
   ],
   "source": [
    "ss_xtest"
   ]
  },
  {
   "cell_type": "code",
   "execution_count": 71,
   "id": "c33fb4ce",
   "metadata": {},
   "outputs": [],
   "source": [
    "from sklearn.linear_model import LogisticRegression"
   ]
  },
  {
   "cell_type": "code",
   "execution_count": 72,
   "id": "ca9f57de",
   "metadata": {},
   "outputs": [],
   "source": [
    "lrmodel= LogisticRegression()"
   ]
  },
  {
   "cell_type": "code",
   "execution_count": 80,
   "id": "438dc9fd",
   "metadata": {},
   "outputs": [
    {
     "name": "stderr",
     "output_type": "stream",
     "text": [
      "/Users/mdosman/anaconda3/lib/python3.11/site-packages/sklearn/utils/validation.py:1183: DataConversionWarning: A column-vector y was passed when a 1d array was expected. Please change the shape of y to (n_samples, ), for example using ravel().\n",
      "  y = column_or_1d(y, warn=True)\n"
     ]
    },
    {
     "data": {
      "text/html": [
       "<style>#sk-container-id-4 {color: black;}#sk-container-id-4 pre{padding: 0;}#sk-container-id-4 div.sk-toggleable {background-color: white;}#sk-container-id-4 label.sk-toggleable__label {cursor: pointer;display: block;width: 100%;margin-bottom: 0;padding: 0.3em;box-sizing: border-box;text-align: center;}#sk-container-id-4 label.sk-toggleable__label-arrow:before {content: \"▸\";float: left;margin-right: 0.25em;color: #696969;}#sk-container-id-4 label.sk-toggleable__label-arrow:hover:before {color: black;}#sk-container-id-4 div.sk-estimator:hover label.sk-toggleable__label-arrow:before {color: black;}#sk-container-id-4 div.sk-toggleable__content {max-height: 0;max-width: 0;overflow: hidden;text-align: left;background-color: #f0f8ff;}#sk-container-id-4 div.sk-toggleable__content pre {margin: 0.2em;color: black;border-radius: 0.25em;background-color: #f0f8ff;}#sk-container-id-4 input.sk-toggleable__control:checked~div.sk-toggleable__content {max-height: 200px;max-width: 100%;overflow: auto;}#sk-container-id-4 input.sk-toggleable__control:checked~label.sk-toggleable__label-arrow:before {content: \"▾\";}#sk-container-id-4 div.sk-estimator input.sk-toggleable__control:checked~label.sk-toggleable__label {background-color: #d4ebff;}#sk-container-id-4 div.sk-label input.sk-toggleable__control:checked~label.sk-toggleable__label {background-color: #d4ebff;}#sk-container-id-4 input.sk-hidden--visually {border: 0;clip: rect(1px 1px 1px 1px);clip: rect(1px, 1px, 1px, 1px);height: 1px;margin: -1px;overflow: hidden;padding: 0;position: absolute;width: 1px;}#sk-container-id-4 div.sk-estimator {font-family: monospace;background-color: #f0f8ff;border: 1px dotted black;border-radius: 0.25em;box-sizing: border-box;margin-bottom: 0.5em;}#sk-container-id-4 div.sk-estimator:hover {background-color: #d4ebff;}#sk-container-id-4 div.sk-parallel-item::after {content: \"\";width: 100%;border-bottom: 1px solid gray;flex-grow: 1;}#sk-container-id-4 div.sk-label:hover label.sk-toggleable__label {background-color: #d4ebff;}#sk-container-id-4 div.sk-serial::before {content: \"\";position: absolute;border-left: 1px solid gray;box-sizing: border-box;top: 0;bottom: 0;left: 50%;z-index: 0;}#sk-container-id-4 div.sk-serial {display: flex;flex-direction: column;align-items: center;background-color: white;padding-right: 0.2em;padding-left: 0.2em;position: relative;}#sk-container-id-4 div.sk-item {position: relative;z-index: 1;}#sk-container-id-4 div.sk-parallel {display: flex;align-items: stretch;justify-content: center;background-color: white;position: relative;}#sk-container-id-4 div.sk-item::before, #sk-container-id-4 div.sk-parallel-item::before {content: \"\";position: absolute;border-left: 1px solid gray;box-sizing: border-box;top: 0;bottom: 0;left: 50%;z-index: -1;}#sk-container-id-4 div.sk-parallel-item {display: flex;flex-direction: column;z-index: 1;position: relative;background-color: white;}#sk-container-id-4 div.sk-parallel-item:first-child::after {align-self: flex-end;width: 50%;}#sk-container-id-4 div.sk-parallel-item:last-child::after {align-self: flex-start;width: 50%;}#sk-container-id-4 div.sk-parallel-item:only-child::after {width: 0;}#sk-container-id-4 div.sk-dashed-wrapped {border: 1px dashed gray;margin: 0 0.4em 0.5em 0.4em;box-sizing: border-box;padding-bottom: 0.4em;background-color: white;}#sk-container-id-4 div.sk-label label {font-family: monospace;font-weight: bold;display: inline-block;line-height: 1.2em;}#sk-container-id-4 div.sk-label-container {text-align: center;}#sk-container-id-4 div.sk-container {/* jupyter's `normalize.less` sets `[hidden] { display: none; }` but bootstrap.min.css set `[hidden] { display: none !important; }` so we also need the `!important` here to be able to override the default hidden behavior on the sphinx rendered scikit-learn.org. See: https://github.com/scikit-learn/scikit-learn/issues/21755 */display: inline-block !important;position: relative;}#sk-container-id-4 div.sk-text-repr-fallback {display: none;}</style><div id=\"sk-container-id-4\" class=\"sk-top-container\"><div class=\"sk-text-repr-fallback\"><pre>LogisticRegression()</pre><b>In a Jupyter environment, please rerun this cell to show the HTML representation or trust the notebook. <br />On GitHub, the HTML representation is unable to render, please try loading this page with nbviewer.org.</b></div><div class=\"sk-container\" hidden><div class=\"sk-item\"><div class=\"sk-estimator sk-toggleable\"><input class=\"sk-toggleable__control sk-hidden--visually\" id=\"sk-estimator-id-4\" type=\"checkbox\" checked><label for=\"sk-estimator-id-4\" class=\"sk-toggleable__label sk-toggleable__label-arrow\">LogisticRegression</label><div class=\"sk-toggleable__content\"><pre>LogisticRegression()</pre></div></div></div></div></div>"
      ],
      "text/plain": [
       "LogisticRegression()"
      ]
     },
     "execution_count": 80,
     "metadata": {},
     "output_type": "execute_result"
    }
   ],
   "source": [
    "lrmodel.fit(ss_xtrain,y_train)"
   ]
  },
  {
   "cell_type": "code",
   "execution_count": 86,
   "id": "d28edafc",
   "metadata": {},
   "outputs": [
    {
     "data": {
      "text/plain": [
       "0.8375"
      ]
     },
     "execution_count": 86,
     "metadata": {},
     "output_type": "execute_result"
    }
   ],
   "source": [
    "lrmodel.score(ss_xtest,y_test)"
   ]
  }
 ],
 "metadata": {
  "kernelspec": {
   "display_name": "Python 3 (ipykernel)",
   "language": "python",
   "name": "python3"
  },
  "language_info": {
   "codemirror_mode": {
    "name": "ipython",
    "version": 3
   },
   "file_extension": ".py",
   "mimetype": "text/x-python",
   "name": "python",
   "nbconvert_exporter": "python",
   "pygments_lexer": "ipython3",
   "version": "3.11.5"
  }
 },
 "nbformat": 4,
 "nbformat_minor": 5
}
